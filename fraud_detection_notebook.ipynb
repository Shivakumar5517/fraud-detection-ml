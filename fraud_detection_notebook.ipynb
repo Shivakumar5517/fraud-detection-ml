
{
 "cells": [
  {
   "cell_type": "markdown",
   "metadata": {},
   "source": [
    "# 🚨 Fraud Detection in Credit Card Transactions\n",
    "## Step-by-step project for anomaly detection"
   ]
  },
  {
   "cell_type": "code",
   "execution_count": null,
   "metadata": {},
   "outputs": [],
   "source": [
    "import pandas as pd\n",
    "from sklearn.ensemble import IsolationForest\n",
    "from sklearn.model_selection import train_test_split\n",
    "from sklearn.metrics import classification_report\n",
    "\n",
    "df = pd.read_csv('creditcard.csv')\n",
    "df['Amount'] = (df['Amount'] - df['Amount'].mean()) / df['Amount'].std()\n",
    "X = df.drop('Class', axis=1)\n",
    "y = df['Class']\n",
    "model = IsolationForest(contamination=0.001)\n",
    "model.fit(X)\n",
    "y_pred = model.predict(X)\n",
    "y_pred_binary = [1 if i == -1 else 0 for i in y_pred]\n",
    "print(classification_report(y, y_pred_binary))"
   ]
  }
 ],
 "metadata": {
  "kernelspec": {
   "display_name": "Python 3",
   "language": "python",
   "name": "python3"
  },
  "language_info": {
   "name": "python"
  }
 },
 "nbformat": 4,
 "nbformat_minor": 2
}
